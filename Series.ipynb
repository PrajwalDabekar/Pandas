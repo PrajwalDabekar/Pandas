{
 "cells": [
  {
   "cell_type": "code",
   "execution_count": 1,
   "id": "2bf2bf32",
   "metadata": {},
   "outputs": [],
   "source": [
    "import pandas as pd"
   ]
  },
  {
   "cell_type": "code",
   "execution_count": 3,
   "id": "4a6f4f3e",
   "metadata": {},
   "outputs": [],
   "source": [
    "l1 = [1,2,56,76,86]"
   ]
  },
  {
   "cell_type": "code",
   "execution_count": 5,
   "id": "d2ddafba",
   "metadata": {},
   "outputs": [],
   "source": [
    "s1 = pd.Series(l1)"
   ]
  },
  {
   "cell_type": "code",
   "execution_count": 6,
   "id": "2fc79d44",
   "metadata": {},
   "outputs": [
    {
     "data": {
      "text/plain": [
       "0     1\n",
       "1     2\n",
       "2    56\n",
       "3    76\n",
       "4    86\n",
       "dtype: int64"
      ]
     },
     "execution_count": 6,
     "metadata": {},
     "output_type": "execute_result"
    }
   ],
   "source": [
    "s1"
   ]
  },
  {
   "cell_type": "code",
   "execution_count": 7,
   "id": "2d64d220",
   "metadata": {},
   "outputs": [],
   "source": [
    "d1 = {\"day1\":246,\"day2\":76,\"day3\":54}"
   ]
  },
  {
   "cell_type": "code",
   "execution_count": 8,
   "id": "4e613090",
   "metadata": {},
   "outputs": [
    {
     "data": {
      "text/plain": [
       "day1    246\n",
       "day2     76\n",
       "day3     54\n",
       "dtype: int64"
      ]
     },
     "execution_count": 8,
     "metadata": {},
     "output_type": "execute_result"
    }
   ],
   "source": [
    "s2 = pd.Series(d1)\n",
    "s2"
   ]
  },
  {
   "cell_type": "code",
   "execution_count": null,
   "id": "0a0429ff",
   "metadata": {},
   "outputs": [],
   "source": []
  }
 ],
 "metadata": {
  "kernelspec": {
   "display_name": "Python 3 (ipykernel)",
   "language": "python",
   "name": "python3"
  },
  "language_info": {
   "codemirror_mode": {
    "name": "ipython",
    "version": 3
   },
   "file_extension": ".py",
   "mimetype": "text/x-python",
   "name": "python",
   "nbconvert_exporter": "python",
   "pygments_lexer": "ipython3",
   "version": "3.11.5"
  }
 },
 "nbformat": 4,
 "nbformat_minor": 5
}
